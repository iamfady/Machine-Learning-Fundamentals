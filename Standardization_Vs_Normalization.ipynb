{
  "nbformat": 4,
  "nbformat_minor": 0,
  "metadata": {
    "colab": {
      "provenance": [],
      "authorship_tag": "ABX9TyNXrJxXoKXCL3Z+QAz3DboV",
      "include_colab_link": true
    },
    "kernelspec": {
      "name": "python3",
      "display_name": "Python 3"
    },
    "language_info": {
      "name": "python"
    }
  },
  "cells": [
    {
      "cell_type": "markdown",
      "metadata": {
        "id": "view-in-github",
        "colab_type": "text"
      },
      "source": [
        "<a href=\"https://colab.research.google.com/github/iamfady/Machine-Learning-Fundamentals/blob/main/Standardization_Vs_Normalization.ipynb\" target=\"_parent\"><img src=\"https://colab.research.google.com/assets/colab-badge.svg\" alt=\"Open In Colab\"/></a>"
      ]
    },
    {
      "cell_type": "code",
      "execution_count": null,
      "metadata": {
        "colab": {
          "base_uri": "https://localhost:8080/"
        },
        "id": "dUKDnzg16CYa",
        "outputId": "b0188d89-942c-45fd-87c4-62708e50c070"
      },
      "outputs": [
        {
          "output_type": "stream",
          "name": "stdout",
          "text": [
            "   weight  price\n",
            "0     300      3\n",
            "1     250      2\n",
            "2     800      5\n"
          ]
        }
      ],
      "source": [
        "import pandas as pd\n",
        "\n",
        "data = {\n",
        "    \"weight\":[300, 250, 800],\n",
        "    \"price\": [3, 2, 5]\n",
        "        }\n",
        "\n",
        "df = pd.DataFrame(data)\n",
        "\n",
        "print(df)"
      ]
    },
    {
      "cell_type": "code",
      "source": [
        "from sklearn.preprocessing import StandardScaler\n",
        "\n",
        "scaler = StandardScaler()\n",
        "\n",
        "scaled_data = scaler.fit_transform(df)\n",
        "\n",
        "print(scaled_data)"
      ],
      "metadata": {
        "colab": {
          "base_uri": "https://localhost:8080/"
        },
        "id": "M_k2ISdt6oIA",
        "outputId": "4f6d402a-efdf-44b5-ef13-ba5b53b49d14"
      },
      "execution_count": null,
      "outputs": [
        {
          "output_type": "stream",
          "name": "stdout",
          "text": [
            "[[-0.60404045 -0.26726124]\n",
            " [-0.80538727 -1.06904497]\n",
            " [ 1.40942772  1.33630621]]\n"
          ]
        }
      ]
    },
    {
      "cell_type": "code",
      "source": [
        "standardized_df = pd.DataFrame(scaled_data, columns=df.columns)\n",
        "\n",
        "print(standardized_df)"
      ],
      "metadata": {
        "colab": {
          "base_uri": "https://localhost:8080/"
        },
        "id": "Eq825W5d608N",
        "outputId": "6f234302-e3bc-4e7f-cfe2-b568d2c61ebd"
      },
      "execution_count": null,
      "outputs": [
        {
          "output_type": "stream",
          "name": "stdout",
          "text": [
            "     weight     price\n",
            "0 -0.604040 -0.267261\n",
            "1 -0.805387 -1.069045\n",
            "2  1.409428  1.336306\n"
          ]
        }
      ]
    },
    {
      "cell_type": "markdown",
      "source": [
        "# How to Normalize data"
      ],
      "metadata": {
        "id": "4qv8pg4I7eQZ"
      }
    },
    {
      "cell_type": "code",
      "source": [
        "data = {\n",
        "    \"weight\":[300, 250, 800],\n",
        "    \"price\": [3, 2, 5]\n",
        "        }\n",
        "\n",
        "df = pd.DataFrame(data)\n",
        "\n",
        "print(df)"
      ],
      "metadata": {
        "id": "hoS3kpdH7WBv"
      },
      "execution_count": null,
      "outputs": []
    },
    {
      "cell_type": "code",
      "source": [
        "from sklearn.preprocessing import MinMaxScaler\n",
        "\n",
        "scaler = MinMaxScaler()\n",
        "\n",
        "scaled_data = scaler.fit_transform(df)\n",
        "\n",
        "print(scaled_data)"
      ],
      "metadata": {
        "colab": {
          "base_uri": "https://localhost:8080/"
        },
        "id": "x_FWzpeV7pjF",
        "outputId": "08a83842-cbc5-428d-f132-9c5b4b1cd24f"
      },
      "execution_count": null,
      "outputs": [
        {
          "output_type": "stream",
          "name": "stdout",
          "text": [
            "[[0.09090909 0.33333333]\n",
            " [0.         0.        ]\n",
            " [1.         1.        ]]\n"
          ]
        }
      ]
    },
    {
      "cell_type": "code",
      "source": [
        "scaleded_df = pd.DataFrame(scaled_data, columns=df.columns)\n",
        "\n",
        "print(scaleded_df)"
      ],
      "metadata": {
        "colab": {
          "base_uri": "https://localhost:8080/"
        },
        "id": "8rTdI1oQ7ptM",
        "outputId": "92f3597a-544e-47f9-afdd-3ba42bf26752"
      },
      "execution_count": null,
      "outputs": [
        {
          "output_type": "stream",
          "name": "stdout",
          "text": [
            "     weight     price\n",
            "0  0.090909  0.333333\n",
            "1  0.000000  0.000000\n",
            "2  1.000000  1.000000\n"
          ]
        }
      ]
    }
  ]
}